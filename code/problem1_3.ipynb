{
 "cells": [
  {
   "cell_type": "code",
   "execution_count": 12,
   "metadata": {},
   "outputs": [
    {
     "name": "stdout",
     "output_type": "stream",
     "text": [
      "your number is not type int\n"
     ]
    }
   ],
   "source": [
    "def findzero(result):\n",
    "    zero=0\n",
    "    result = str(result)\n",
    "    for i in range(1,len(result)+1):\n",
    "        if result[-i]=='0':\n",
    "            zero+=1\n",
    "        else:\n",
    "            break\n",
    "    return zero\n",
    "\n",
    "def find_factorial(number):\n",
    "    if type(number) is not int:\n",
    "        print(\"your number is not int\")\n",
    "    else:\n",
    "        result=1\n",
    "        while number>0:\n",
    "            result=number*result\n",
    "            number-=1\n",
    "        zero=findzero(result)\n",
    "    return result,zero\n",
    "\n",
    "\n",
    "\n",
    "\n",
    "try:\n",
    "    number = input(\"Enter your number type int:\")\n",
    "    result2,zero2=find_factorial(int(number))\n",
    "    print(\"your number is \",number)\n",
    "    print(\"result of factorial is \",result2)\n",
    "    print(\"zero has \",zero2)\n",
    "except:\n",
    "    print(\"your input is not type int\")\n",
    "\n"
   ]
  }
 ],
 "metadata": {
  "kernelspec": {
   "display_name": "Python 3",
   "language": "python",
   "name": "python3"
  },
  "language_info": {
   "codemirror_mode": {
    "name": "ipython",
    "version": 3
   },
   "file_extension": ".py",
   "mimetype": "text/x-python",
   "name": "python",
   "nbconvert_exporter": "python",
   "pygments_lexer": "ipython3",
   "version": "3.11.0"
  },
  "orig_nbformat": 4
 },
 "nbformat": 4,
 "nbformat_minor": 2
}
