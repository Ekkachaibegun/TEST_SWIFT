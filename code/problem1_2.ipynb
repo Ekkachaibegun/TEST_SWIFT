{
 "cells": [
  {
   "cell_type": "code",
   "execution_count": null,
   "metadata": {},
   "outputs": [],
   "source": [
    "#*******************************input number by list*********************************\n",
    "def find_max_index(array):\n",
    "    #variable\n",
    "    i=0#index\n",
    "    array_isnot_number=False#check\n",
    "    for item in array:\n",
    "        if type(item)!= int and type(item)!=float:\n",
    "            print(f\"the array index {i} has variable is not number\")\n",
    "            array_isnot_number = True\n",
    "        else:\n",
    "            pass\n",
    "            #print(f\"the array index {i} has variable is number\")\n",
    "        i+=1\n",
    "    if array_isnot_number:\n",
    "        print(\"the array has some variable is not number thus program cannot check index maximun\")\n",
    "\n",
    "\n",
    "\n",
    "    #case all member of array is number\n",
    "    else:\n",
    "        print(\"all variable of array is number the program can check index maximun\")\n",
    "        i=0#index for loop\n",
    "        index=0 #index of max\n",
    "        max=array[0]#\n",
    "        for item in array:\n",
    "            print(index)\n",
    "            if max<item:\n",
    "                max=item\n",
    "                index==i\n",
    "            i+=1\n",
    "        print(f\"the index maximun value of array is {index} ,value is {max}\")\n",
    "\n",
    "\n",
    "\n",
    "\n",
    "\n",
    "\n",
    "#input your number\n",
    "number=[12.2,5,55,66,77,100,1,2,3,-4,-55]\n",
    "find_max_index(number)"
   ]
  },
  {
   "cell_type": "code",
   "execution_count": 4,
   "metadata": {},
   "outputs": [
    {
     "name": "stdout",
     "output_type": "stream",
     "text": [
      "your number is  [1, 2, 3, 1]\n",
      "the index maximun value of array is 2 ,value is 3\n"
     ]
    }
   ],
   "source": [
    "#*******************************input number each index*********************************\n",
    "\n",
    "def input_number():#input number each index\n",
    "    a = input(\"Enter your number(string type is stop input):\")\n",
    "    try:\n",
    "        a=int(a)\n",
    "    except:\n",
    "        print(\"your input is not number\")\n",
    "\n",
    "    b=[]\n",
    "    while type(a)==int or type(a)==float:\n",
    "        b.append(a)\n",
    "        a = input(\"Enter your number(string type is stop input):\")\n",
    "        try:\n",
    "            a=int(a)\n",
    "        except:\n",
    "            print(\"your number is \",b) \n",
    "    return b\n",
    "\n",
    "\n",
    "def find_max_index2(array):\n",
    "    i=0#index for loop\n",
    "    index=0 #index of max\n",
    "    max=array[0]#\n",
    "    for item in array:\n",
    "        #print(item)\n",
    "        if max<item:\n",
    "            max=item\n",
    "            index=i\n",
    "        i=i+1\n",
    "    print(f\"the index maximun value of array is {index} ,value is {max}\")\n",
    "\n",
    "\n",
    "\n",
    "\n",
    "\n",
    "number=input_number()\n",
    "find_max_index2(number)"
   ]
  }
 ],
 "metadata": {
  "kernelspec": {
   "display_name": "Python 3",
   "language": "python",
   "name": "python3"
  },
  "language_info": {
   "codemirror_mode": {
    "name": "ipython",
    "version": 3
   },
   "file_extension": ".py",
   "mimetype": "text/x-python",
   "name": "python",
   "nbconvert_exporter": "python",
   "pygments_lexer": "ipython3",
   "version": "3.11.0"
  },
  "orig_nbformat": 4
 },
 "nbformat": 4,
 "nbformat_minor": 2
}
